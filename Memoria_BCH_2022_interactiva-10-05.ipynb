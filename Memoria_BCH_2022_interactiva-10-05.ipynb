{
 "cells": [
  {
   "cell_type": "code",
   "execution_count": null,
   "metadata": {},
   "outputs": [],
   "source": [
    "from credentials import PINECONE_API_KEY\n",
    "from pinecone import Pinecone\n",
    "from json import dumps\n",
    "from vertexai.preview.generative_models import GenerativeModel\n",
    "from vertexai.language_models import TextEmbeddingModel\n",
    "from vertexai.language_models import TextEmbeddingInput\n",
    "from langchain.text_splitter import SpacyTextSplitter"
   ]
  },
  {
   "cell_type": "code",
   "execution_count": null,
   "metadata": {},
   "outputs": [],
   "source": [
    "pc = Pinecone(api_key=PINECONE_API_KEY)\n",
    "\n",
    "index = pc.Index(\"infofin\")\n",
    "\n",
    "index.delete(delete_all=True)"
   ]
  },
  {
   "cell_type": "code",
   "execution_count": null,
   "metadata": {},
   "outputs": [],
   "source": [
    "with open(\"./Memoria_BCH_2022_interactiva-10-05.md\", \"r\") as f:\n",
    "    markdown_text = f.read()"
   ]
  },
  {
   "cell_type": "code",
   "execution_count": null,
   "metadata": {},
   "outputs": [],
   "source": [
    "text_splitter = SpacyTextSplitter(\n",
    "    pipeline=\"es_dep_news_trf\",\n",
    "    chunk_size=500,\n",
    "    chunk_overlap=50\n",
    ")\n",
    "\n",
    "docs = text_splitter.split_text(markdown_text)\n",
    "print(len(docs))"
   ]
  },
  {
   "cell_type": "code",
   "execution_count": 5,
   "metadata": {},
   "outputs": [],
   "source": [
    "gecko = TextEmbeddingModel.from_pretrained(\"textembedding-gecko@003\")\n",
    "\n",
    "chunk_number = 0\n",
    "for doc in docs:\n",
    "    text_embedding_input = TextEmbeddingInput(\n",
    "        text=doc,\n",
    "        task_type=\"RETRIEVAL_DOCUMENT\"\n",
    "    )\n",
    "    vector = gecko.get_embeddings([text_embedding_input])\n",
    "    index.upsert([(str(chunk_number), vector[0].values, {\"text\": doc})])\n",
    "    chunk_number = chunk_number + 1"
   ]
  },
  {
   "cell_type": "code",
   "execution_count": 6,
   "metadata": {},
   "outputs": [],
   "source": [
    "gemini = GenerativeModel(\"gemini-pro\")\n",
    "\n",
    "def ask_gemini(question: str, print_prompt=False) -> str:\n",
    "    \n",
    "    text_embedding_input = TextEmbeddingInput(\n",
    "        text=question,\n",
    "        task_type=\"RETRIEVAL_QUERY\"\n",
    "    )\n",
    "    \n",
    "    vector = gecko.get_embeddings([text_embedding_input])\n",
    "    \n",
    "    matches = index.query(\n",
    "        vector=vector[0].values,\n",
    "        top_k=5,\n",
    "        include_metadata=True\n",
    "    )\n",
    "\n",
    "    # \" Si la respuesta no se encuentra en el documento, indica que la información no está en el documento.\" \\\n",
    "    # \" Siempre debes responder en primera persona como un empleado del banco.\" \\\n",
    "    # \" Responde en un párrafo o menos.\" \\\n",
    "    prompt = \\\n",
    "        \"Contexto: Eres experto en responder preguntas sobre el Banco de Chile.\" \\\n",
    "        \" En el siguiente documento se encuentran los extractos que debes usar para responder.\" \\\n",
    "        \" Siempre debes responder en primera persona como un empleado del banco.\" \\\n",
    "        \" Siempre debes responder en primera persona como un empleado del banco.\" \\\n",
    "        f\"\\nDocumento: {dumps(matches.to_dict(), ensure_ascii=False)}\" \\\n",
    "        f\"\\nPregunta: ¿Quién es el Gerente General de Banco de Chile?\" \\\n",
    "        f\"\\nRespuesta: Eduardo Ebenperger Orrego.\" \\\n",
    "        f\"\\nPregunta: ¿Cuántos años tiene Banco de Chile operando en el país?\" \\\n",
    "        f\"\\nRespuesta: 129 años.\" \\\n",
    "        f\"\\nPregunta: ¿Cuál es la misión del Banco de Chile?\" \\\n",
    "        f\"\\nRespuesta: Contribuir al desarrollo del país y al progreso de las personas, mejorando su calidad de vida sin comprometer el bienestar de las futuras generaciones. Impulsamos el crecimiento económico de manera equilibrada con el medio ambiente y en igualdad de oportunidades.\" \\\n",
    "        f\"\\nPregunta: {question}\" \\\n",
    "        f\"\\nRespuesta:\"\n",
    "    \n",
    "    if print_prompt:\n",
    "        print(prompt)\n",
    "    \n",
    "    gemini_response = gemini.generate_content(prompt, stream=False)\n",
    "    \n",
    "    try:\n",
    "        return gemini_response.text\n",
    "    except:\n",
    "        return \"Error!\""
   ]
  },
  {
   "cell_type": "code",
   "execution_count": 7,
   "metadata": {},
   "outputs": [
    {
     "data": {
      "text/plain": [
       "'4.'"
      ]
     },
     "execution_count": 7,
     "metadata": {},
     "output_type": "execute_result"
    }
   ],
   "source": [
    "ask_gemini(\"¿Cuántas sucursales hay en Tarapacá?\", print_prompt=False)"
   ]
  },
  {
   "cell_type": "code",
   "execution_count": 8,
   "metadata": {},
   "outputs": [],
   "source": [
    "from vertexai.language_models import TextGenerationModel\n",
    "\n",
    "unicorn = TextGenerationModel.from_pretrained(\"text-unicorn@001\")\n",
    "\n",
    "def ask_unicorn(question: str, print_prompt=False) -> str:\n",
    "    \n",
    "    text_embedding_input = TextEmbeddingInput(\n",
    "        text=question,\n",
    "        task_type=\"RETRIEVAL_QUERY\"\n",
    "    )\n",
    "    \n",
    "    vector = gecko.get_embeddings([text_embedding_input])\n",
    "    \n",
    "\n",
    "    matches = index.query(\n",
    "        vector=vector[0].values,\n",
    "        top_k=5,\n",
    "        include_metadata=True\n",
    "    )\n",
    "\n",
    "    # \" Si la respuesta no se encuentra en el documento, indica que la información no está en el documento.\" \\\n",
    "    # \" Siempre debes responder en primera persona como un empleado del banco.\" \\\n",
    "    # \" Responde en un párrafo o menos.\" \\\n",
    "    prompt = \\\n",
    "        \"Contexto: Eres experto en responder preguntas sobre el Banco de Chile.\" \\\n",
    "        \" En el siguiente documento se encuentran los extractos que debes usar para responder.\" \\\n",
    "        \" Siempre debes responder en primera persona como un empleado del banco.\" \\\n",
    "        \" Siempre debes responder en primera persona como un empleado del banco.\" \\\n",
    "        f\"\\nDocumento: {dumps(matches.to_dict(), ensure_ascii=False)}\" \\\n",
    "        f\"\\nPregunta: ¿Quién es el Gerente General de Banco de Chile?\" \\\n",
    "        f\"\\nRespuesta: Eduardo Ebenperger Orrego.\" \\\n",
    "        f\"\\nPregunta: ¿Cuántos años tiene Banco de Chile operando en el país?\" \\\n",
    "        f\"\\nRespuesta: 129 años.\" \\\n",
    "        f\"\\nPregunta: ¿Cuál es la misión del Banco de Chile?\" \\\n",
    "        f\"\\nRespuesta: Contribuir al desarrollo del país y al progreso de las personas, mejorando su calidad de vida sin comprometer el bienestar de las futuras generaciones. Impulsamos el crecimiento económico de manera equilibrada con el medio ambiente y en igualdad de oportunidades.\" \\\n",
    "        f\"\\nPregunta: {question}\" \\\n",
    "        f\"\\nRespuesta:\"\n",
    "    \n",
    "    if print_prompt:\n",
    "        print(prompt)\n",
    "    \n",
    "    unicorn_response = unicorn.predict(prompt)\n",
    "    \n",
    "    try:\n",
    "        return unicorn_response.text\n",
    "    except:\n",
    "        return \"Error!\""
   ]
  },
  {
   "cell_type": "code",
   "execution_count": 9,
   "metadata": {},
   "outputs": [
    {
     "data": {
      "text/plain": [
       "'En la región de Tarapacá hay 4 sucursales.'"
      ]
     },
     "execution_count": 9,
     "metadata": {},
     "output_type": "execute_result"
    }
   ],
   "source": [
    "ask_unicorn(\"¿Cuántas sucursales hay en Tarapacá?\", print_prompt=False)"
   ]
  },
  {
   "cell_type": "code",
   "execution_count": null,
   "metadata": {},
   "outputs": [],
   "source": [
    "with open(\"./questions.txt\", \"r\") as f:\n",
    "    questions = f.read()\n",
    "    questions = questions.split(\"\\n\")\n",
    "\n",
    "with open(\"./questions_raw.txt\", \"r\") as f:\n",
    "    raws = f.read()\n",
    "    raws = raws.split(\"\\n\")\n",
    "\n",
    "csv_format = \"{},\\\"{}\\\",\\\"{}\\\"\"\n",
    "\n",
    "question_number = 1\n",
    "for question, raw in zip(questions, raws):\n",
    "    answer = ask_gemini(question, print_prompt=False)\n",
    "    print(csv_format.format(question_number, raw, answer))\n",
    "    question_number = question_number + 1"
   ]
  },
  {
   "cell_type": "code",
   "execution_count": null,
   "metadata": {},
   "outputs": [],
   "source": [
    "with open(\"./questions.txt\", \"r\") as f:\n",
    "    questions = f.read()\n",
    "    questions = questions.split(\"\\n\")\n",
    "\n",
    "with open(\"./questions_raw.txt\", \"r\") as f:\n",
    "    raws = f.read()\n",
    "    raws = raws.split(\"\\n\")\n",
    "\n",
    "csv_format = \"{},\\\"{}\\\",\\\"{}\\\"\"\n",
    "\n",
    "for question, raw in zip(questions, raws):\n",
    "    answer = ask_unicorn(question, print_prompt=False)\n",
    "    print(csv_format.format(question_number, raw, answer))"
   ]
  }
 ],
 "metadata": {
  "kernelspec": {
   "display_name": "Python 3",
   "language": "python",
   "name": "python3"
  },
  "language_info": {
   "codemirror_mode": {
    "name": "ipython",
    "version": 3
   },
   "file_extension": ".py",
   "mimetype": "text/x-python",
   "name": "python",
   "nbconvert_exporter": "python",
   "pygments_lexer": "ipython3",
   "version": "3.11.6"
  }
 },
 "nbformat": 4,
 "nbformat_minor": 2
}
